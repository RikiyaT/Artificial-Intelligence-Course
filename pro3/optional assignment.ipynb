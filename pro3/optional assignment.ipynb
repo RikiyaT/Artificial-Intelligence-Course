{
  "cells": [
    {
      "cell_type": "markdown",
      "metadata": {
        "id": "WicydOgYKdwu"
      },
      "source": [
        "# change runtime to GPU!!\n",
        "Rikiya Takehi"
      ]
    },
    {
      "cell_type": "code",
      "execution_count": 3,
      "metadata": {
        "colab": {
          "base_uri": "https://localhost:8080/"
        },
        "id": "hzUlP44lEL6O",
        "outputId": "8c7a99b5-ede7-41f9-fe6a-2423d4d547c6"
      },
      "outputs": [
        {
          "ename": "ModuleNotFoundError",
          "evalue": "No module named 'torch'",
          "output_type": "error",
          "traceback": [
            "\u001b[0;31m---------------------------------------------------------------------------\u001b[0m",
            "\u001b[0;31mModuleNotFoundError\u001b[0m                       Traceback (most recent call last)",
            "Cell \u001b[0;32mIn[3], line 1\u001b[0m\n\u001b[0;32m----> 1\u001b[0m \u001b[39mimport\u001b[39;00m \u001b[39mtorch\u001b[39;00m\n\u001b[1;32m      2\u001b[0m \u001b[39mimport\u001b[39;00m \u001b[39mtorch\u001b[39;00m\u001b[39m.\u001b[39;00m\u001b[39mnn\u001b[39;00m \u001b[39mas\u001b[39;00m \u001b[39mnn\u001b[39;00m\n\u001b[1;32m      3\u001b[0m \u001b[39mimport\u001b[39;00m \u001b[39mtorch\u001b[39;00m\u001b[39m.\u001b[39;00m\u001b[39mnn\u001b[39;00m\u001b[39m.\u001b[39;00m\u001b[39mfunctional\u001b[39;00m \u001b[39mas\u001b[39;00m \u001b[39mF\u001b[39;00m\n",
            "\u001b[0;31mModuleNotFoundError\u001b[0m: No module named 'torch'"
          ]
        }
      ],
      "source": [
        "import torch\n",
        "import torch.nn as nn\n",
        "import torch.nn.functional as F\n",
        "import torch.optim as optim\n",
        "import torch.utils.data as data\n",
        "\n",
        "device = torch.device(\"cuda\" if torch.cuda.is_available() else \"cpu\")\n",
        "print(\"device\", device)"
      ]
    },
    {
      "cell_type": "code",
      "execution_count": 2,
      "metadata": {
        "colab": {
          "base_uri": "https://localhost:8080/"
        },
        "id": "SLWhTNsvEMs9",
        "outputId": "d2f0f912-5e19-48a7-f878-ad344b04a6e6"
      },
      "outputs": [
        {
          "data": {
            "text/plain": [
              "<torch._C.Generator at 0x7f97a4013cf0>"
            ]
          },
          "execution_count": 2,
          "metadata": {},
          "output_type": "execute_result"
        }
      ],
      "source": [
        "torch.manual_seed(42)"
      ]
    },
    {
      "cell_type": "code",
      "execution_count": 3,
      "metadata": {
        "id": "Rrjmb4NRE3wr"
      },
      "outputs": [],
      "source": [
        "import tensorflow as tf"
      ]
    },
    {
      "cell_type": "code",
      "execution_count": 4,
      "metadata": {
        "colab": {
          "base_uri": "https://localhost:8080/"
        },
        "id": "bycavJZtE2rw",
        "outputId": "41b3f424-90da-407b-debc-ea56041bdb17"
      },
      "outputs": [
        {
          "name": "stdout",
          "output_type": "stream",
          "text": [
            "Downloading data from https://www.cs.toronto.edu/~kriz/cifar-100-python.tar.gz\n",
            "169001437/169001437 [==============================] - 6s 0us/step\n"
          ]
        }
      ],
      "source": [
        "(x_train, y_train), (x_test, y_test) = tf.keras.datasets.cifar100.load_data()"
      ]
    },
    {
      "cell_type": "code",
      "execution_count": 5,
      "metadata": {
        "colab": {
          "base_uri": "https://localhost:8080/"
        },
        "id": "Ch32st3vFL2n",
        "outputId": "a98571e0-5440-4082-da5e-d413fc9b9754"
      },
      "outputs": [
        {
          "data": {
            "text/plain": [
              "(50000, 10000, 50000, 10000)"
            ]
          },
          "execution_count": 5,
          "metadata": {},
          "output_type": "execute_result"
        }
      ],
      "source": [
        "len(x_train), len(x_test), len(y_train), len(y_test)"
      ]
    },
    {
      "cell_type": "code",
      "execution_count": 6,
      "metadata": {
        "colab": {
          "base_uri": "https://localhost:8080/",
          "height": 301
        },
        "id": "_WYJEon4FYxb",
        "outputId": "172329b3-730c-4532-d63d-faf697f4c826"
      },
      "outputs": [
        {
          "name": "stdout",
          "output_type": "stream",
          "text": [
            "Image shape: (32, 32, 3)\n"
          ]
        },
        {
          "data": {
            "text/plain": [
              "<matplotlib.image.AxesImage at 0x7f97288652b0>"
            ]
          },
          "execution_count": 6,
          "metadata": {},
          "output_type": "execute_result"
        },
        {
          "data": {
            "image/png": "[encoded data removed]",
            "text/plain": [
              "<Figure size 432x288 with 1 Axes>"
            ]
          },
          "metadata": {
            "needs_background": "light"
          },
          "output_type": "display_data"
        }
      ],
      "source": [
        "import matplotlib.pyplot as plt\n",
        "image = x_train[0]\n",
        "print(f\"Image shape: {image.shape}\")\n",
        "plt.imshow(image.squeeze())"
      ]
    },
    {
      "cell_type": "code",
      "execution_count": 7,
      "metadata": {
        "colab": {
          "base_uri": "https://localhost:8080/",
          "height": 520
        },
        "id": "1jdydkwbFoyn",
        "outputId": "f9ea0319-069a-426d-afdc-8acabce4b1b9"
      },
      "outputs": [
        {
          "data": {
            "image/png": "[encoded data removed]",
            "text/plain": [
              "<Figure size 648x648 with 16 Axes>"
            ]
          },
          "metadata": {
            "needs_background": "light"
          },
          "output_type": "display_data"
        }
      ],
      "source": [
        "fig = plt.figure(figsize=(9,9))\n",
        "rows, cols = 4, 4\n",
        "for i in range(1, rows*cols+1):\n",
        "  random_idx = torch.randint(0, len(x_train), size=[1]).item()\n",
        "  img = x_train[random_idx]\n",
        "  fig.add_subplot(rows, cols, i)\n",
        "  plt.imshow(img.squeeze())\n",
        "  plt.axis(False)"
      ]
    },
    {
      "cell_type": "code",
      "execution_count": 8,
      "metadata": {
        "id": "cWJMB_z9KH4h"
      },
      "outputs": [],
      "source": [
        "import numpy as np\n",
        "x_train = np.moveaxis(x_train, [3, 1, 2], [1, 2, 3]).astype('float32')\n",
        "x_test = np.moveaxis(x_test, [3, 1, 2], [1, 2, 3]).astype('float32')\n",
        "\n",
        "x_train /= 255\n",
        "x_test /= 255\n",
        "\n",
        "y_train = y_train.reshape(-1).astype('long')\n",
        "y_test = y_test.reshape(-1).astype('long')"
      ]
    },
    {
      "cell_type": "code",
      "execution_count": 9,
      "metadata": {
        "id": "CAXSzy1tHbfJ"
      },
      "outputs": [],
      "source": [
        "ds_train = data.TensorDataset(torch.from_numpy(x_train), torch.from_numpy(y_train))\n",
        "ds_test  = data.TensorDataset(torch.from_numpy(x_test), torch.from_numpy(y_test))"
      ]
    },
    {
      "cell_type": "code",
      "execution_count": 21,
      "metadata": {
        "id": "Gqs8-G9WEuxG"
      },
      "outputs": [],
      "source": [
        "batch_size = 100\n",
        "num_classes = 100\n",
        "epochs = 20"
      ]
    },
    {
      "cell_type": "code",
      "execution_count": 11,
      "metadata": {
        "id": "ctjIecueHsjx"
      },
      "outputs": [],
      "source": [
        "dataloader_train = data.DataLoader(dataset=ds_train, batch_size=batch_size, shuffle=True)\n",
        "dataloader_test = data.DataLoader(dataset=ds_test, batch_size=batch_size, shuffle=False)"
      ]
    },
    {
      "cell_type": "code",
      "execution_count": 12,
      "metadata": {
        "id": "K_L3CYvxF2E_"
      },
      "outputs": [],
      "source": [
        "class Cifar100Model(nn.Module):\n",
        "    def __init__(self):\n",
        "        super(Cifar100Model, self).__init__()\n",
        "        self.conv11 = nn.Conv2d(3, 32, 3, padding=1)\n",
        "        self.conv12 = nn.Conv2d(32, 32, 3, padding=1)\n",
        "\n",
        "        self.conv21 = nn.Conv2d(32, 64, 3, padding=1)\n",
        "        self.conv22 = nn.Conv2d(64, 64, 3, padding=1)\n",
        "\n",
        "        self.fc1 = nn.Linear(64 * 8 * 8, 1024)\n",
        "        self.fc2 = nn.Linear(1024, 512)\n",
        "        self.fc3 = nn.Linear(512, num_classes)\n",
        "\n",
        "        self.dropout1 = nn.Dropout2d(0.25)\n",
        "        self.dropout2 = nn.Dropout2d(0.25)\n",
        "        self.dropout3 = nn.Dropout2d(0.5)\n",
        "        self.dropout4 = nn.Dropout2d(0.5)\n",
        "\n",
        "\n",
        "    def forward(self, x):\n",
        "        x = F.relu(self.conv11(x))\n",
        "        x = F.relu(self.conv12(x))\n",
        "        x = F.max_pool2d(x, (2, 2))\n",
        "        x = self.dropout1(x)\n",
        "\n",
        "        x = F.relu(self.conv21(x))\n",
        "        x = F.relu(self.conv22(x))\n",
        "        x = F.max_pool2d(x, (2, 2))\n",
        "        x = self.dropout2(x)\n",
        "\n",
        "        x = x.view(-1, 64 * 8 * 8)\n",
        "        x = F.relu(self.fc1(x))\n",
        "        x = self.dropout3(x)\n",
        "        x = self.fc2(x)\n",
        "        x = self.dropout4(x)\n",
        "        return self.fc3(x)"
      ]
    },
    {
      "cell_type": "code",
      "execution_count": 13,
      "metadata": {
        "id": "9gKpW9_xGug9"
      },
      "outputs": [],
      "source": [
        "model = Cifar100Model().to(device)"
      ]
    },
    {
      "cell_type": "code",
      "execution_count": 14,
      "metadata": {
        "id": "Bk_lCpgVGje3"
      },
      "outputs": [],
      "source": [
        "criterion = nn.CrossEntropyLoss()\n",
        "optimizer = optim.Adam(model.parameters(), lr=0.001)\n",
        "scheduler = optim.lr_scheduler.StepLR(optimizer, step_size=10, gamma=0.9)"
      ]
    },
    {
      "cell_type": "code",
      "execution_count": 15,
      "metadata": {
        "colab": {
          "base_uri": "https://localhost:8080/"
        },
        "id": "qb8JF2aEG1aC",
        "outputId": "b22747fa-93ee-4db6-ec7c-615dad7f6ae6"
      },
      "outputs": [
        {
          "name": "stdout",
          "output_type": "stream",
          "text": [
            "Looking in indexes: https://pypi.org/simple, https://us-python.pkg.dev/colab-wheels/public/simple/\n",
            "Collecting torchinfo\n",
            "  Downloading torchinfo-1.7.1-py3-none-any.whl (22 kB)\n",
            "Installing collected packages: torchinfo\n",
            "Successfully installed torchinfo-1.7.1\n"
          ]
        },
        {
          "name": "stderr",
          "output_type": "stream",
          "text": [
            "/usr/local/lib/python3.8/dist-packages/torch/nn/functional.py:1331: UserWarning: dropout2d: Received a 2-D input to dropout2d, which is deprecated and will result in an error in a future release. To retain the behavior and silence this warning, please use dropout instead. Note that dropout2d exists to provide channel-wise dropout on inputs with 2 spatial dimensions, a channel dimension, and an optional batch dimension (i.e. 3D or 4D inputs).\n",
            "  warnings.warn(warn_msg)\n"
          ]
        },
        {
          "data": {
            "text/plain": [
              "==========================================================================================\n",
              "Layer (type:depth-idx)                   Output Shape              Param #\n",
              "==========================================================================================\n",
              "Cifar100Model                            [1, 100]                  --\n",
              "├─Conv2d: 1-1                            [1, 32, 32, 32]           896\n",
              "├─Conv2d: 1-2                            [1, 32, 32, 32]           9,248\n",
              "├─Dropout2d: 1-3                         [1, 32, 16, 16]           --\n",
              "├─Conv2d: 1-4                            [1, 64, 16, 16]           18,496\n",
              "├─Conv2d: 1-5                            [1, 64, 16, 16]           36,928\n",
              "├─Dropout2d: 1-6                         [1, 64, 8, 8]             --\n",
              "├─Linear: 1-7                            [1, 1024]                 4,195,328\n",
              "├─Dropout2d: 1-8                         [1, 1024]                 --\n",
              "├─Linear: 1-9                            [1, 512]                  524,800\n",
              "├─Dropout2d: 1-10                        [1, 512]                  --\n",
              "├─Linear: 1-11                           [1, 100]                  51,300\n",
              "==========================================================================================\n",
              "Total params: 4,836,996\n",
              "Trainable params: 4,836,996\n",
              "Non-trainable params: 0\n",
              "Total mult-adds (M): 29.35\n",
              "==========================================================================================\n",
              "Input size (MB): 0.01\n",
              "Forward/backward pass size (MB): 0.80\n",
              "Params size (MB): 19.35\n",
              "Estimated Total Size (MB): 20.16\n",
              "=========================================================================================="
            ]
          },
          "execution_count": 15,
          "metadata": {},
          "output_type": "execute_result"
        }
      ],
      "source": [
        "try:\n",
        "  import torchinfo\n",
        "except:\n",
        "  !pip install torchinfo\n",
        "  import torchinfo\n",
        "\n",
        "from torchinfo import summary\n",
        "summary (model, input_size=[1, 3, 32, 32])"
      ]
    },
    {
      "cell_type": "code",
      "execution_count": 16,
      "metadata": {
        "id": "AQMX3F5iG6JE"
      },
      "outputs": [],
      "source": [
        "global_step = 0\n",
        "\n",
        "def train(epoch):\n",
        "    model.train()\n",
        "    scheduler.step()\n",
        "\n",
        "    print(\"\\n--- Epoch : %2d ---\" % epoch)\n",
        "    print(\"lr : %f\" % optimizer.param_groups[0]['lr'])\n",
        "\n",
        "    steps = len(ds_train)//batch_size\n",
        "    for step, (images, labels) in enumerate(dataloader_train, 1):\n",
        "        global global_step\n",
        "        global_step += 1\n",
        "\n",
        "        images, labels = images.to(device), labels.to(device)\n",
        "\n",
        "        optimizer.zero_grad()\n",
        "        outputs = model(images)\n",
        "        loss = criterion(outputs, labels)\n",
        "        loss.backward()\n",
        "        optimizer.step()\n",
        "\n",
        "        if step % 100 == 0:\n",
        "            print ('Epoch [%d/%d], Step [%d/%d], Loss: %.4f' % (epoch, epochs, step, steps, loss.item()))"
      ]
    },
    {
      "cell_type": "code",
      "execution_count": 17,
      "metadata": {
        "id": "l2ihCOk1H4n2"
      },
      "outputs": [],
      "source": [
        "def eval(epoch):\n",
        "    model.eval()\n",
        "    correct = 0\n",
        "    total = 0\n",
        "    with torch.inference_mode():\n",
        "        for (images, labels) in dataloader_test:\n",
        "            images, labels = images.to(device), labels.to(device)\n",
        "\n",
        "            outputs = model(images)\n",
        "            _, predicted = torch.max(outputs.data, 1)\n",
        "            correct += (predicted == labels).sum().item()\n",
        "            total += labels.size(0)\n",
        "\n",
        "    print(\"Val Acc : %.4f\" % (correct/total))"
      ]
    },
    {
      "cell_type": "code",
      "execution_count": 22,
      "metadata": {
        "colab": {
          "base_uri": "https://localhost:8080/"
        },
        "id": "n3MbTidBIFSI",
        "outputId": "f9cee22d-8181-4e8b-ba4e-bb7249c39729"
      },
      "outputs": [
        {
          "name": "stdout",
          "output_type": "stream",
          "text": [
            "\n",
            "--- Epoch :  1 ---\n",
            "lr : 0.000900\n",
            "Epoch [1/20], Step [100/500], Loss: 2.1705\n",
            "Epoch [1/20], Step [200/500], Loss: 2.8495\n",
            "Epoch [1/20], Step [300/500], Loss: 2.6002\n",
            "Epoch [1/20], Step [400/500], Loss: 2.6373\n",
            "Epoch [1/20], Step [500/500], Loss: 2.3547\n",
            "Val Acc : 0.3631\n",
            "\n",
            "--- Epoch :  2 ---\n",
            "lr : 0.000900\n",
            "Epoch [2/20], Step [100/500], Loss: 2.4322\n",
            "Epoch [2/20], Step [200/500], Loss: 2.6827\n",
            "Epoch [2/20], Step [300/500], Loss: 2.7557\n",
            "Epoch [2/20], Step [400/500], Loss: 2.5165\n",
            "Epoch [2/20], Step [500/500], Loss: 2.6091\n",
            "Val Acc : 0.3723\n",
            "\n",
            "--- Epoch :  3 ---\n",
            "lr : 0.000900\n",
            "Epoch [3/20], Step [100/500], Loss: 2.2220\n",
            "Epoch [3/20], Step [200/500], Loss: 2.5052\n",
            "Epoch [3/20], Step [300/500], Loss: 2.4882\n",
            "Epoch [3/20], Step [400/500], Loss: 2.4712\n",
            "Epoch [3/20], Step [500/500], Loss: 2.5802\n",
            "Val Acc : 0.3638\n",
            "\n",
            "--- Epoch :  4 ---\n",
            "lr : 0.000900\n",
            "Epoch [4/20], Step [100/500], Loss: 2.6041\n",
            "Epoch [4/20], Step [200/500], Loss: 2.2288\n",
            "Epoch [4/20], Step [300/500], Loss: 2.0912\n",
            "Epoch [4/20], Step [400/500], Loss: 2.5400\n",
            "Epoch [4/20], Step [500/500], Loss: 2.2626\n",
            "Val Acc : 0.3788\n",
            "\n",
            "--- Epoch :  5 ---\n",
            "lr : 0.000900\n",
            "Epoch [5/20], Step [100/500], Loss: 2.1622\n",
            "Epoch [5/20], Step [200/500], Loss: 2.2363\n",
            "Epoch [5/20], Step [300/500], Loss: 2.1962\n",
            "Epoch [5/20], Step [400/500], Loss: 2.2191\n",
            "Epoch [5/20], Step [500/500], Loss: 2.3790\n",
            "Val Acc : 0.3687\n",
            "\n",
            "--- Epoch :  6 ---\n",
            "lr : 0.000900\n",
            "Epoch [6/20], Step [100/500], Loss: 2.4671\n",
            "Epoch [6/20], Step [200/500], Loss: 2.4080\n",
            "Epoch [6/20], Step [300/500], Loss: 1.9761\n",
            "Epoch [6/20], Step [400/500], Loss: 2.1753\n",
            "Epoch [6/20], Step [500/500], Loss: 2.2291\n",
            "Val Acc : 0.3769\n",
            "\n",
            "--- Epoch :  7 ---\n",
            "lr : 0.000810\n",
            "Epoch [7/20], Step [100/500], Loss: 2.1225\n",
            "Epoch [7/20], Step [200/500], Loss: 1.9008\n",
            "Epoch [7/20], Step [300/500], Loss: 2.1651\n",
            "Epoch [7/20], Step [400/500], Loss: 2.4330\n",
            "Epoch [7/20], Step [500/500], Loss: 2.3585\n",
            "Val Acc : 0.3768\n",
            "\n",
            "--- Epoch :  8 ---\n",
            "lr : 0.000810\n",
            "Epoch [8/20], Step [100/500], Loss: 1.9976\n",
            "Epoch [8/20], Step [200/500], Loss: 2.3700\n",
            "Epoch [8/20], Step [300/500], Loss: 2.2309\n",
            "Epoch [8/20], Step [400/500], Loss: 1.7830\n",
            "Epoch [8/20], Step [500/500], Loss: 2.0103\n",
            "Val Acc : 0.3818\n",
            "\n",
            "--- Epoch :  9 ---\n",
            "lr : 0.000810\n",
            "Epoch [9/20], Step [100/500], Loss: 2.0680\n",
            "Epoch [9/20], Step [200/500], Loss: 2.0872\n",
            "Epoch [9/20], Step [300/500], Loss: 2.2187\n",
            "Epoch [9/20], Step [400/500], Loss: 2.2571\n",
            "Epoch [9/20], Step [500/500], Loss: 2.3210\n",
            "Val Acc : 0.3830\n",
            "\n",
            "--- Epoch : 10 ---\n",
            "lr : 0.000810\n",
            "Epoch [10/20], Step [100/500], Loss: 2.0591\n",
            "Epoch [10/20], Step [200/500], Loss: 2.2199\n",
            "Epoch [10/20], Step [300/500], Loss: 2.2188\n",
            "Epoch [10/20], Step [400/500], Loss: 2.2654\n",
            "Epoch [10/20], Step [500/500], Loss: 2.4446\n",
            "Val Acc : 0.3815\n",
            "\n",
            "--- Epoch : 11 ---\n",
            "lr : 0.000810\n",
            "Epoch [11/20], Step [100/500], Loss: 1.9492\n",
            "Epoch [11/20], Step [200/500], Loss: 1.9103\n",
            "Epoch [11/20], Step [300/500], Loss: 2.1572\n",
            "Epoch [11/20], Step [400/500], Loss: 2.4913\n",
            "Epoch [11/20], Step [500/500], Loss: 1.8927\n",
            "Val Acc : 0.3828\n",
            "\n",
            "--- Epoch : 12 ---\n",
            "lr : 0.000810\n",
            "Epoch [12/20], Step [100/500], Loss: 1.8592\n",
            "Epoch [12/20], Step [200/500], Loss: 1.9332\n",
            "Epoch [12/20], Step [300/500], Loss: 2.1619\n",
            "Epoch [12/20], Step [400/500], Loss: 2.0626\n",
            "Epoch [12/20], Step [500/500], Loss: 1.9851\n",
            "Val Acc : 0.3835\n",
            "\n",
            "--- Epoch : 13 ---\n",
            "lr : 0.000810\n",
            "Epoch [13/20], Step [100/500], Loss: 2.0203\n",
            "Epoch [13/20], Step [200/500], Loss: 1.8916\n",
            "Epoch [13/20], Step [300/500], Loss: 1.9750\n",
            "Epoch [13/20], Step [400/500], Loss: 1.8758\n",
            "Epoch [13/20], Step [500/500], Loss: 1.8950\n",
            "Val Acc : 0.3764\n",
            "\n",
            "--- Epoch : 14 ---\n",
            "lr : 0.000810\n",
            "Epoch [14/20], Step [100/500], Loss: 1.9277\n",
            "Epoch [14/20], Step [200/500], Loss: 1.9698\n",
            "Epoch [14/20], Step [300/500], Loss: 1.7527\n",
            "Epoch [14/20], Step [400/500], Loss: 2.0298\n",
            "Epoch [14/20], Step [500/500], Loss: 1.8329\n",
            "Val Acc : 0.3821\n",
            "\n",
            "--- Epoch : 15 ---\n",
            "lr : 0.000810\n",
            "Epoch [15/20], Step [100/500], Loss: 1.5874\n",
            "Epoch [15/20], Step [200/500], Loss: 1.9647\n",
            "Epoch [15/20], Step [300/500], Loss: 1.8509\n",
            "Epoch [15/20], Step [400/500], Loss: 2.1995\n",
            "Epoch [15/20], Step [500/500], Loss: 1.7303\n",
            "Val Acc : 0.3832\n",
            "\n",
            "--- Epoch : 16 ---\n",
            "lr : 0.000810\n",
            "Epoch [16/20], Step [100/500], Loss: 1.8195\n",
            "Epoch [16/20], Step [200/500], Loss: 1.8514\n",
            "Epoch [16/20], Step [300/500], Loss: 2.2417\n",
            "Epoch [16/20], Step [400/500], Loss: 1.8815\n",
            "Epoch [16/20], Step [500/500], Loss: 2.1866\n",
            "Val Acc : 0.3870\n",
            "\n",
            "--- Epoch : 17 ---\n",
            "lr : 0.000729\n",
            "Epoch [17/20], Step [100/500], Loss: 1.6159\n",
            "Epoch [17/20], Step [200/500], Loss: 1.9614\n",
            "Epoch [17/20], Step [300/500], Loss: 1.9320\n",
            "Epoch [17/20], Step [400/500], Loss: 1.6416\n",
            "Epoch [17/20], Step [500/500], Loss: 1.7750\n",
            "Val Acc : 0.3809\n",
            "\n",
            "--- Epoch : 18 ---\n",
            "lr : 0.000729\n",
            "Epoch [18/20], Step [100/500], Loss: 1.8734\n",
            "Epoch [18/20], Step [200/500], Loss: 1.6715\n",
            "Epoch [18/20], Step [300/500], Loss: 2.1204\n",
            "Epoch [18/20], Step [400/500], Loss: 1.7613\n",
            "Epoch [18/20], Step [500/500], Loss: 2.0826\n",
            "Val Acc : 0.3840\n",
            "\n",
            "--- Epoch : 19 ---\n",
            "lr : 0.000729\n",
            "Epoch [19/20], Step [100/500], Loss: 1.8060\n",
            "Epoch [19/20], Step [200/500], Loss: 1.9458\n",
            "Epoch [19/20], Step [300/500], Loss: 1.7841\n",
            "Epoch [19/20], Step [400/500], Loss: 1.8637\n",
            "Epoch [19/20], Step [500/500], Loss: 1.8586\n",
            "Val Acc : 0.3927\n",
            "\n",
            "--- Epoch : 20 ---\n",
            "lr : 0.000729\n",
            "Epoch [20/20], Step [100/500], Loss: 2.0259\n",
            "Epoch [20/20], Step [200/500], Loss: 2.0164\n",
            "Epoch [20/20], Step [300/500], Loss: 1.5882\n",
            "Epoch [20/20], Step [400/500], Loss: 1.7053\n",
            "Epoch [20/20], Step [500/500], Loss: 1.7401\n",
            "Val Acc : 0.3908\n"
          ]
        }
      ],
      "source": [
        "for epoch in range(1, epochs+1):\n",
        "    train(epoch)\n",
        "    eval(epoch)"
      ]
    }
  ],
  "metadata": {
    "accelerator": "GPU",
    "colab": {
      "provenance": []
    },
    "gpuClass": "standard",
    "kernelspec": {
      "display_name": "Python 3",
      "language": "python",
      "name": "python3"
    },
    "language_info": {
      "codemirror_mode": {
        "name": "ipython",
        "version": 3
      },
      "file_extension": ".py",
      "mimetype": "text/x-python",
      "name": "python",
      "nbconvert_exporter": "python",
      "pygments_lexer": "ipython3",
      "version": "3.9.6"
    },
    "vscode": {
      "interpreter": {
        "hash": "31f2aee4e71d21fbe5cf8b01ff0e069b9275f58929596ceb00d14d90e3e16cd6"
      }
    }
  },
  "nbformat": 4,
  "nbformat_minor": 0
}
